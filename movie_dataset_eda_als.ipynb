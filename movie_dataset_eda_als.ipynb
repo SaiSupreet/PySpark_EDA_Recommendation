{
  "cells": [
    {
      "cell_type": "code",
      "execution_count": 1,
      "metadata": {
        "id": "9CLfqdCMGs7c"
      },
      "outputs": [],
      "source": [
        "# install java\n",
        "!apt-get install openjdk-8-jdk-headless -qq > /dev/null\n",
        "\n",
        "# install spark (change the version number if needed)\n",
        "!wget -q https://archive.apache.org/dist/spark/spark-3.0.0/spark-3.0.0-bin-hadoop3.2.tgz\n",
        "\n",
        "# unzip the spark file to the current folder\n",
        "!tar xf spark-3.0.0-bin-hadoop3.2.tgz\n",
        "\n",
        "# set your spark folder to your system path environment. \n",
        "import os\n",
        "os.environ[\"JAVA_HOME\"] = \"/usr/lib/jvm/java-8-openjdk-amd64\"\n",
        "os.environ[\"SPARK_HOME\"] = \"/content/spark-3.0.0-bin-hadoop3.2\"\n",
        "\n",
        "\n",
        "# install findspark using pip\n",
        "!pip install -q findspark"
      ]
    },
    {
      "cell_type": "code",
      "execution_count": 2,
      "metadata": {
        "id": "yLBUw-DVGwzi"
      },
      "outputs": [],
      "source": [
        "import findspark\n",
        "findspark.init()\n",
        "from pyspark.sql import SparkSession\n",
        "spark = SparkSession.builder.master(\"local[*]\").getOrCreate()"
      ]
    },
    {
      "cell_type": "code",
      "source": [
        "df = spark.sql(\"show databases\")\n",
        "df.show(5)"
      ],
      "metadata": {
        "colab": {
          "base_uri": "https://localhost:8080/"
        },
        "id": "MAwkrEw9oIKk",
        "outputId": "4799b369-f027-411b-83ef-b19b3bbaf1b5"
      },
      "execution_count": 3,
      "outputs": [
        {
          "output_type": "stream",
          "name": "stdout",
          "text": [
            "+---------+\n",
            "|namespace|\n",
            "+---------+\n",
            "|  default|\n",
            "+---------+\n",
            "\n"
          ]
        }
      ]
    },
    {
      "cell_type": "code",
      "source": [
        "#from google.colab import drive\n",
        "#drive.mount('/content/drive')"
      ],
      "metadata": {
        "id": "naTLgwZgfNVH"
      },
      "execution_count": 4,
      "outputs": []
    },
    {
      "cell_type": "code",
      "execution_count": 5,
      "metadata": {
        "id": "xNb74XUdG3db"
      },
      "outputs": [],
      "source": [
        "# Read the given CSV file\n",
        "#from google.colab import files\n",
        "#path = r'/content/drive/MyDrive/Colab Notebooks/'"
      ]
    },
    {
      "cell_type": "code",
      "source": [
        "#movie = spark.read.csv(path + 'movie.csv', inferSchema = True, header = True)\n",
        "#occupation =spark.read.csv(path + 'occupation.csv',inferSchema=True,header=True)\n",
        "#ratings =spark.read.csv(path + 'ratings.csv',inferSchema=True,header=True)\n",
        "#users =spark.read.csv(path + 'users.csv',inferSchema=True,header=True)"
      ],
      "metadata": {
        "id": "STJKhaswnDHC"
      },
      "execution_count": 6,
      "outputs": []
    },
    {
      "cell_type": "code",
      "source": [
        "movie = spark.read.csv('movie.csv', inferSchema = True, header = True)"
      ],
      "metadata": {
        "id": "WPuVGn0doWDw"
      },
      "execution_count": 7,
      "outputs": []
    },
    {
      "cell_type": "code",
      "source": [
        "occupation = spark.read.csv('occupation.csv', inferSchema = True, header = True)"
      ],
      "metadata": {
        "id": "KT4HPQo9ocsd"
      },
      "execution_count": 8,
      "outputs": []
    },
    {
      "cell_type": "code",
      "source": [
        "ratings = spark.read.csv('ratings.csv', inferSchema = True, header = True)"
      ],
      "metadata": {
        "id": "FzqPKRh8ogiC"
      },
      "execution_count": 9,
      "outputs": []
    },
    {
      "cell_type": "code",
      "source": [
        "users = spark.read.csv('users.csv', inferSchema = True, header = True)"
      ],
      "metadata": {
        "id": "ff-TKnFpoi3p"
      },
      "execution_count": 10,
      "outputs": []
    },
    {
      "cell_type": "code",
      "execution_count": 11,
      "metadata": {
        "id": "TTRxdhkHXDgv",
        "colab": {
          "base_uri": "https://localhost:8080/"
        },
        "outputId": "7dc821b8-47bc-4113-b129-540880370dd8"
      },
      "outputs": [
        {
          "output_type": "stream",
          "name": "stdout",
          "text": [
            "+-------+--------------------+--------------------+\n",
            "|MovieID|               Title|              Genres|\n",
            "+-------+--------------------+--------------------+\n",
            "|      1|    Toy Story (1995)|Animation|Childre...|\n",
            "|      2|      Jumanji (1995)|Adventure|Childre...|\n",
            "|      3|Grumpier Old Men ...|      Comedy|Romance|\n",
            "|      4|Waiting to Exhale...|        Comedy|Drama|\n",
            "|      5|Father of the Bri...|              Comedy|\n",
            "+-------+--------------------+--------------------+\n",
            "\n"
          ]
        }
      ],
      "source": [
        "movie = movie.select([c for c in movie.columns if c in {'MovieID', 'Title', 'Genres'}])\n",
        "movie.limit(5).show()"
      ]
    },
    {
      "cell_type": "code",
      "execution_count": 12,
      "metadata": {
        "id": "HIiarmCzHxQ0"
      },
      "outputs": [],
      "source": [
        "from pyspark.sql import functions as F\n",
        "\n",
        "#import pyspark.sql.functions as F\n",
        "#df.withColumn(\"check\",F.col(\"text\").rlike(\"yes\").cast(\"Integer\")).show()\n",
        "\n",
        "genra_list = [\"Action\",\"Adventure\",\"Animation\",\"Children's\",\"Comedy\",\"Crime\",\"Documentary\",\"Drama\",\"Fantasy\",\"Film-Noir\",\"Horror\",\"Musical\",\"Mystery\",\"Romance\",\"Sci-Fi\",\"Thriller\",\"War\",\"Western\"]\n",
        "for genra in genra_list:\n",
        "  movie = movie.withColumn(genra, F.col(\"Genres\").rlike(genra).cast(\"Boolean\"))"
      ]
    },
    {
      "cell_type": "code",
      "execution_count": 13,
      "metadata": {
        "id": "rDuFpo59bUTB",
        "colab": {
          "base_uri": "https://localhost:8080/"
        },
        "outputId": "a0bbb3f9-2596-4fa6-fe85-572eeff2c7ab"
      },
      "outputs": [
        {
          "output_type": "stream",
          "name": "stdout",
          "text": [
            "+-------+--------------------+--------------------+------+---------+---------+----------+------+-----+-----------+-----+-------+---------+------+-------+-------+-------+------+--------+-----+-------+\n",
            "|MovieID|               Title|              Genres|Action|Adventure|Animation|Children's|Comedy|Crime|Documentary|Drama|Fantasy|Film-Noir|Horror|Musical|Mystery|Romance|Sci-Fi|Thriller|  War|Western|\n",
            "+-------+--------------------+--------------------+------+---------+---------+----------+------+-----+-----------+-----+-------+---------+------+-------+-------+-------+------+--------+-----+-------+\n",
            "|      1|    Toy Story (1995)|Animation|Childre...| false|    false|     true|      true|  true|false|      false|false|  false|    false| false|  false|  false|  false| false|   false|false|  false|\n",
            "|      2|      Jumanji (1995)|Adventure|Childre...| false|     true|    false|      true| false|false|      false|false|   true|    false| false|  false|  false|  false| false|   false|false|  false|\n",
            "|      3|Grumpier Old Men ...|      Comedy|Romance| false|    false|    false|     false|  true|false|      false|false|  false|    false| false|  false|  false|   true| false|   false|false|  false|\n",
            "|      4|Waiting to Exhale...|        Comedy|Drama| false|    false|    false|     false|  true|false|      false| true|  false|    false| false|  false|  false|  false| false|   false|false|  false|\n",
            "|      5|Father of the Bri...|              Comedy| false|    false|    false|     false|  true|false|      false|false|  false|    false| false|  false|  false|  false| false|   false|false|  false|\n",
            "+-------+--------------------+--------------------+------+---------+---------+----------+------+-----+-----------+-----+-------+---------+------+-------+-------+-------+------+--------+-----+-------+\n",
            "\n"
          ]
        }
      ],
      "source": [
        "movie.limit(5).show()"
      ]
    },
    {
      "cell_type": "code",
      "execution_count": 14,
      "metadata": {
        "id": "LXTsGTiYbnA5",
        "colab": {
          "base_uri": "https://localhost:8080/",
          "height": 565
        },
        "outputId": "5b1aeba8-e813-494c-8359-c415b3c75e85"
      },
      "outputs": [
        {
          "output_type": "display_data",
          "data": {
            "text/plain": [
              "<Figure size 640x640 with 1 Axes>"
            ],
            "image/png": "[encoded data removed]"
          },
          "metadata": {
            "needs_background": "light"
          }
        }
      ],
      "source": [
        "from collections import Counter\n",
        "import matplotlib.pyplot as plt\n",
        "from matplotlib.pyplot import figure\n",
        "\n",
        "figure(figsize=(8, 8), dpi=80)\n",
        "\n",
        "genres_list = movie.select('Genres').rdd.map(lambda x : x[0]).collect()\n",
        "\n",
        "# Assign the Counter instance `most_common` call to a variable:\n",
        "word_frequency = Counter(\" \".join(genres_list).split(\"|\")).most_common(10)\n",
        "\n",
        "# `most_common` returns a list of (word, count) tuples\n",
        "words = [word for word, _ in word_frequency]\n",
        "counts = [counts for _, counts in word_frequency]\n",
        "plt.barh(words, counts)\n",
        "plt.title(\"10 most frequent Genres\")\n",
        "plt.ylabel(\"Genres\")\n",
        "plt.xlabel(\"Frequency\")\n",
        "plt.show()\n",
        "\n",
        "del genres_list,word_frequency"
      ]
    },
    {
      "cell_type": "code",
      "execution_count": 15,
      "metadata": {
        "id": "6ZQ0ZMxygH99",
        "colab": {
          "base_uri": "https://localhost:8080/"
        },
        "outputId": "cc2c938a-cd5a-414c-b2e5-69e6e817a152"
      },
      "outputs": [
        {
          "output_type": "stream",
          "name": "stdout",
          "text": [
            "+------+------+---+----------+--------+\n",
            "|UserID|Gender|Age|Occupation|Zip-code|\n",
            "+------+------+---+----------+--------+\n",
            "|     1|     F|  1|        10|   48067|\n",
            "|     2|     M| 56|        16|   70072|\n",
            "|     3|     M| 25|        15|   55117|\n",
            "|     4|     M| 45|         7|    2460|\n",
            "|     5|     M| 25|        20|   55455|\n",
            "+------+------+---+----------+--------+\n",
            "\n",
            "+----------+--------------------+\n",
            "|Occupation|     Occupation_name|\n",
            "+----------+--------------------+\n",
            "|         0|               other|\n",
            "|         1|   academic/educator|\n",
            "|         2|              artist|\n",
            "|         3|      clerical/admin|\n",
            "|         4|college/grad student|\n",
            "+----------+--------------------+\n",
            "\n",
            "+----------+------+------+---+--------+--------------------+\n",
            "|Occupation|UserID|Gender|Age|Zip-code|     Occupation_name|\n",
            "+----------+------+------+---+--------+--------------------+\n",
            "|        10|     1|     F|  1|   48067|        K-12 student|\n",
            "|        16|     2|     M| 56|   70072|       self-employed|\n",
            "|        15|     3|     M| 25|   55117|           scientist|\n",
            "|         7|     4|     M| 45|    2460|executive/managerial|\n",
            "|        20|     5|     M| 25|   55455|              writer|\n",
            "+----------+------+------+---+--------+--------------------+\n",
            "\n"
          ]
        }
      ],
      "source": [
        "users.limit(5).show()\n",
        "occupation.limit(5).show()\n",
        "users_joined = users.join(occupation,[\"Occupation\"],\"leftouter\")\n",
        "users_joined.limit(5).show()"
      ]
    },
    {
      "cell_type": "code",
      "execution_count": 16,
      "metadata": {
        "id": "RN1s8OH1gJim",
        "colab": {
          "base_uri": "https://localhost:8080/"
        },
        "outputId": "5757953c-6185-4cbb-8e02-63cee0290fab"
      },
      "outputs": [
        {
          "output_type": "stream",
          "name": "stdout",
          "text": [
            "+-------+-----------------+------------------+------+------------------+-----------------+---------------+\n",
            "|summary|       Occupation|            UserID|Gender|               Age|         Zip-code|Occupation_name|\n",
            "+-------+-----------------+------------------+------+------------------+-----------------+---------------+\n",
            "|  count|             6040|              6040|  6040|              6040|             6040|           6040|\n",
            "|   mean|8.146854304635761|            3020.5|  null|30.639238410596025|87986.22464010713|           null|\n",
            "| stddev|6.329511491401687|1743.7421445462246|  null|12.895961726906837|2499493.295731326|           null|\n",
            "|    min|                0|                 1|     F|                 1|       01702-7224|   K-12 student|\n",
            "|    max|               20|              6040|     M|                56|            99945|         writer|\n",
            "+-------+-----------------+------------------+------+------------------+-----------------+---------------+\n",
            "\n"
          ]
        }
      ],
      "source": [
        "users_joined.describe().show()"
      ]
    },
    {
      "cell_type": "code",
      "execution_count": 17,
      "metadata": {
        "id": "t1wtkj-eldu_",
        "colab": {
          "base_uri": "https://localhost:8080/",
          "height": 444
        },
        "outputId": "38cc2426-6595-4dbd-a515-36e2fbbfa0c5"
      },
      "outputs": [
        {
          "output_type": "display_data",
          "data": {
            "text/plain": [
              "<Figure size 480x480 with 1 Axes>"
            ],
            "image/png": "[encoded data removed]"
          },
          "metadata": {
            "needs_background": "light"
          }
        }
      ],
      "source": [
        "occupation_list = users_joined.select('Occupation_name').rdd.map(lambda x : x[0]).collect()\n",
        "\n",
        "# Assign the Counter instance \n",
        "frequency = Counter(occupation_list).most_common(10)\n",
        "\n",
        "occupations = [word for word, _ in frequency]\n",
        "counts = [counts for _, counts in frequency]\n",
        "\n",
        "figure(figsize=(6, 6), dpi=80)\n",
        "plt.barh(occupations, counts)\n",
        "plt.title(\"Occupations by Count of Users\")\n",
        "plt.ylabel(\"Occupations\")\n",
        "plt.xlabel(\"Counts\")\n",
        "plt.show()\n",
        "\n",
        "del occupation_list,occupations,counts"
      ]
    },
    {
      "cell_type": "code",
      "execution_count": 18,
      "metadata": {
        "id": "YcvQNm8MrTht",
        "colab": {
          "base_uri": "https://localhost:8080/",
          "height": 323
        },
        "outputId": "257e1d3f-d680-4074-ac05-d0772a316281"
      },
      "outputs": [
        {
          "output_type": "display_data",
          "data": {
            "text/plain": [
              "<Figure size 320x320 with 1 Axes>"
            ],
            "image/png": "[encoded data removed]"
          },
          "metadata": {
            "needs_background": "light"
          }
        }
      ],
      "source": [
        "age = users_joined.select('Age').rdd.map(lambda x : x[0]).collect()\n",
        "\n",
        "# Assign the Counter instance \n",
        "frequency = Counter(age).most_common()\n",
        "\n",
        "age = [word for word, _ in frequency]\n",
        "counts = [counts for _, counts in frequency]\n",
        "\n",
        "figure(figsize=(4, 4), dpi=80)\n",
        "plt.barh(age, counts)\n",
        "plt.title(\"Age by Count of Users\")\n",
        "plt.ylabel(\"Age\")\n",
        "plt.xlabel(\"Counts\")\n",
        "plt.show()\n",
        "\n",
        "del age,counts"
      ]
    },
    {
      "cell_type": "code",
      "execution_count": 19,
      "metadata": {
        "id": "KyEgahxo6BDT",
        "colab": {
          "base_uri": "https://localhost:8080/",
          "height": 323
        },
        "outputId": "39f9fda5-1ec7-43ed-fe3c-b605f161b2d5"
      },
      "outputs": [
        {
          "output_type": "display_data",
          "data": {
            "text/plain": [
              "<Figure size 640x320 with 1 Axes>"
            ],
            "image/png": "[encoded data removed]"
          },
          "metadata": {
            "needs_background": "light"
          }
        }
      ],
      "source": [
        "gender = users_joined.select('Gender').rdd.map(lambda x : x[0]).collect()\n",
        "\n",
        "# Assign the Counter instance \n",
        "frequency = Counter(gender).most_common()\n",
        "\n",
        "gender = [word for word, _ in frequency]\n",
        "counts = [counts for _, counts in frequency]\n",
        "\n",
        "figure(figsize=(8, 4), dpi=80)\n",
        "plt.barh(gender, counts)\n",
        "plt.title(\"Gender by Count of Users\")\n",
        "plt.ylabel(\"Gender\")\n",
        "plt.xlabel(\"Counts\")\n",
        "plt.show()\n",
        "\n",
        "del gender,counts,frequency"
      ]
    },
    {
      "cell_type": "code",
      "execution_count": 20,
      "metadata": {
        "id": "3J1Rcs4h8qAP",
        "colab": {
          "base_uri": "https://localhost:8080/"
        },
        "outputId": "8a2dc966-158f-4e70-bb43-143463bdb455"
      },
      "outputs": [
        {
          "output_type": "stream",
          "name": "stdout",
          "text": [
            "+-------+-----------------+------------------+------------------+-------------------+\n",
            "|summary|           UserID|           MovieID|            Rating|          Timestamp|\n",
            "+-------+-----------------+------------------+------------------+-------------------+\n",
            "|  count|          1000209|           1000209|           1000209|            1000209|\n",
            "|   mean|3024.512347919285|1865.5398981612843| 3.581564453029317|9.722436954046655E8|\n",
            "| stddev|1728.412694899932|1096.0406894572586|1.1171018453732577|1.215255893991719E7|\n",
            "|    min|                1|                 1|                 1|          956703932|\n",
            "|    max|             6040|              3952|                 5|         1046454590|\n",
            "+-------+-----------------+------------------+------------------+-------------------+\n",
            "\n"
          ]
        }
      ],
      "source": [
        "ratings.describe().show()"
      ]
    },
    {
      "cell_type": "code",
      "execution_count": 21,
      "metadata": {
        "id": "zgUN32qG999C",
        "colab": {
          "base_uri": "https://localhost:8080/",
          "height": 323
        },
        "outputId": "f6ec3422-2596-486e-939d-8de0c1297a0f"
      },
      "outputs": [
        {
          "output_type": "display_data",
          "data": {
            "text/plain": [
              "<Figure size 640x320 with 1 Axes>"
            ],
            "image/png": "[encoded data removed]"
          },
          "metadata": {
            "needs_background": "light"
          }
        }
      ],
      "source": [
        "rating = ratings.select('Rating').rdd.map(lambda x : x[0]).collect()\n",
        "\n",
        "# Assign the Counter instance \n",
        "frequency = Counter(rating).most_common()\n",
        "\n",
        "rating = [word for word, _ in frequency]\n",
        "counts = [counts for _, counts in frequency]\n",
        "\n",
        "figure(figsize=(8, 4), dpi=80)\n",
        "plt.barh(rating, counts)\n",
        "plt.title(\"Ratings by Count\")\n",
        "plt.ylabel(\"Ratings\")\n",
        "plt.xlabel(\"Counts\")\n",
        "plt.show()\n",
        "\n",
        "del rating,counts,frequency"
      ]
    },
    {
      "cell_type": "code",
      "execution_count": 22,
      "metadata": {
        "id": "Chhn9FUp916I"
      },
      "outputs": [],
      "source": [
        "master = ratings.join(users_joined,[\"UserId\"],\"leftouter\").join(movie,[\"MovieID\"],\"leftouter\" )\n",
        "#master = master.drop(*['UserID','MovieID','Occupation','MovieID'])"
      ]
    },
    {
      "cell_type": "code",
      "execution_count": 23,
      "metadata": {
        "id": "PaYbZIpJDuoj",
        "colab": {
          "base_uri": "https://localhost:8080/"
        },
        "outputId": "2ce2f951-b798-4ebc-f38c-9d5835b2deef"
      },
      "outputs": [
        {
          "output_type": "stream",
          "name": "stdout",
          "text": [
            "+-------+------+------+---------+----------+------+---+--------+-------------------+--------------------+--------------------+------+---------+---------+----------+------+-----+-----------+-----+-------+---------+------+-------+-------+-------+------+--------+-----+-------+\n",
            "|MovieID|UserID|Rating|Timestamp|Occupation|Gender|Age|Zip-code|    Occupation_name|               Title|              Genres|Action|Adventure|Animation|Children's|Comedy|Crime|Documentary|Drama|Fantasy|Film-Noir|Horror|Musical|Mystery|Romance|Sci-Fi|Thriller|  War|Western|\n",
            "+-------+------+------+---------+----------+------+---+--------+-------------------+--------------------+--------------------+------+---------+---------+----------+------+-----+-----------+-----+-------+---------+------+-------+-------+-------+------+--------+-----+-------+\n",
            "|   2987|   148|     5|979576038|        17|     M| 50|   57747|technician/engineer|Who Framed Roger ...|Adventure|Animati...| false|     true|     true|     false| false|false|      false|false|  false|     true| false|  false|  false|  false| false|   false|false|  false|\n",
            "|   2989|   148|     4|977333611|        17|     M| 50|   57747|technician/engineer|For Your Eyes Onl...|              Action|  true|    false|    false|     false| false|false|      false|false|  false|    false| false|  false|  false|  false| false|   false|false|  false|\n",
            "|    647|   148|     3|977352859|        17|     M| 50|   57747|technician/engineer|Courage Under Fir...|           Drama|War| false|    false|    false|     false| false|false|      false| true|  false|    false| false|  false|  false|  false| false|   false| true|  false|\n",
            "|    648|   148|     2|977333183|        17|     M| 50|   57747|technician/engineer|Mission: Impossib...|Action|Adventure|...|  true|     true|    false|     false| false|false|      false|false|  false|    false| false|  false|   true|  false| false|   false|false|  false|\n",
            "|    575|   148|     4|979578545|        17|     M| 50|   57747|technician/engineer|Little Rascals, T...|   Children's|Comedy| false|    false|    false|      true|  true|false|      false|false|  false|    false| false|  false|  false|  false| false|   false|false|  false|\n",
            "+-------+------+------+---------+----------+------+---+--------+-------------------+--------------------+--------------------+------+---------+---------+----------+------+-----+-----------+-----+-------+---------+------+-------+-------+-------+------+--------+-----+-------+\n",
            "only showing top 5 rows\n",
            "\n"
          ]
        }
      ],
      "source": [
        "master.show(5)"
      ]
    },
    {
      "cell_type": "code",
      "execution_count": 24,
      "metadata": {
        "id": "3QFT9BNUEFSh",
        "colab": {
          "base_uri": "https://localhost:8080/",
          "height": 444
        },
        "outputId": "33991772-0319-478e-adc0-a25cec6be05a"
      },
      "outputs": [
        {
          "output_type": "display_data",
          "data": {
            "text/plain": [
              "<Figure size 480x480 with 1 Axes>"
            ],
            "image/png": "[encoded data removed]"
          },
          "metadata": {
            "needs_background": "light"
          }
        }
      ],
      "source": [
        "movie_name = master.select('Title').rdd.map(lambda x : x[0]).collect()\n",
        "\n",
        "# Assign the Counter instance \n",
        "frequency = Counter(movie_name).most_common(10)\n",
        "\n",
        "movie_name = [word for word, _ in frequency]\n",
        "counts = [counts for _, counts in frequency]\n",
        "\n",
        "figure(figsize=(6, 6), dpi=80)\n",
        "plt.barh(movie_name, counts)\n",
        "plt.title(\"Number of Ratings by Movie Name\")\n",
        "plt.ylabel(\"Movie Name\")\n",
        "plt.xlabel(\"Counts\")\n",
        "plt.show()\n",
        "\n",
        "del movie_name,counts,frequency"
      ]
    },
    {
      "cell_type": "code",
      "execution_count": 25,
      "metadata": {
        "id": "DIdPe3PFIxHv",
        "colab": {
          "base_uri": "https://localhost:8080/",
          "height": 383
        },
        "outputId": "354975bc-5754-4aa5-8764-19fd3e48f23e"
      },
      "outputs": [
        {
          "output_type": "display_data",
          "data": {
            "text/plain": [
              "<Figure size 400x400 with 1 Axes>"
            ],
            "image/png": "[encoded data removed]"
          },
          "metadata": {
            "needs_background": "light"
          }
        }
      ],
      "source": [
        "occupation_rate = master.select('Occupation_name').rdd.map(lambda x : x[0]).collect()\n",
        "\n",
        "# Assign the Counter instance \n",
        "frequency = Counter(occupation_rate).most_common(10)\n",
        "\n",
        "occupation_name = [word for word, _ in frequency]\n",
        "counts = [counts for _, counts in frequency]\n",
        "\n",
        "figure(figsize=(5, 5), dpi=80)\n",
        "plt.barh(occupation_name, counts)\n",
        "plt.title(\"Number of Ratings by Occupation\")\n",
        "plt.ylabel(\"Movie Name\")\n",
        "plt.xlabel(\"Counts\")\n",
        "plt.show()\n",
        "\n",
        "del occupation_rate,counts,frequency"
      ]
    },
    {
      "cell_type": "code",
      "source": [
        "master.show(2)"
      ],
      "metadata": {
        "colab": {
          "base_uri": "https://localhost:8080/"
        },
        "id": "rDY27sH2iKap",
        "outputId": "9b5b93e0-761f-4318-a45c-8ca02b9454fa"
      },
      "execution_count": 26,
      "outputs": [
        {
          "output_type": "stream",
          "name": "stdout",
          "text": [
            "+-------+------+------+---------+----------+------+---+--------+-------------------+--------------------+--------------------+------+---------+---------+----------+------+-----+-----------+-----+-------+---------+------+-------+-------+-------+------+--------+-----+-------+\n",
            "|MovieID|UserID|Rating|Timestamp|Occupation|Gender|Age|Zip-code|    Occupation_name|               Title|              Genres|Action|Adventure|Animation|Children's|Comedy|Crime|Documentary|Drama|Fantasy|Film-Noir|Horror|Musical|Mystery|Romance|Sci-Fi|Thriller|  War|Western|\n",
            "+-------+------+------+---------+----------+------+---+--------+-------------------+--------------------+--------------------+------+---------+---------+----------+------+-----+-----------+-----+-------+---------+------+-------+-------+-------+------+--------+-----+-------+\n",
            "|   2987|   148|     5|979576038|        17|     M| 50|   57747|technician/engineer|Who Framed Roger ...|Adventure|Animati...| false|     true|     true|     false| false|false|      false|false|  false|     true| false|  false|  false|  false| false|   false|false|  false|\n",
            "|   2989|   148|     4|977333611|        17|     M| 50|   57747|technician/engineer|For Your Eyes Onl...|              Action|  true|    false|    false|     false| false|false|      false|false|  false|    false| false|  false|  false|  false| false|   false|false|  false|\n",
            "+-------+------+------+---------+----------+------+---+--------+-------------------+--------------------+--------------------+------+---------+---------+----------+------+-----+-----------+-----+-------+---------+------+-------+-------+-------+------+--------+-----+-------+\n",
            "only showing top 2 rows\n",
            "\n"
          ]
        }
      ]
    },
    {
      "cell_type": "code",
      "source": [
        "master = master.select(['MovieID','UserID','Rating','Genres','Title'])"
      ],
      "metadata": {
        "id": "DcN2cY5jjIs9"
      },
      "execution_count": 27,
      "outputs": []
    },
    {
      "cell_type": "code",
      "source": [
        "master.show(5)"
      ],
      "metadata": {
        "colab": {
          "base_uri": "https://localhost:8080/"
        },
        "id": "kR0MgOWBjp3f",
        "outputId": "0f203912-be78-4262-ac53-b836a1d36424"
      },
      "execution_count": 28,
      "outputs": [
        {
          "output_type": "stream",
          "name": "stdout",
          "text": [
            "+-------+------+------+--------------------+--------------------+\n",
            "|MovieID|UserID|Rating|              Genres|               Title|\n",
            "+-------+------+------+--------------------+--------------------+\n",
            "|   1193|     1|     5|               Drama|One Flew Over the...|\n",
            "|    661|     1|     3|Animation|Childre...|James and the Gia...|\n",
            "|    914|     1|     3|     Musical|Romance| My Fair Lady (1964)|\n",
            "|   3408|     1|     4|               Drama|Erin Brockovich (...|\n",
            "|   2355|     1|     5|Animation|Childre...|Bug's Life, A (1998)|\n",
            "+-------+------+------+--------------------+--------------------+\n",
            "only showing top 5 rows\n",
            "\n"
          ]
        }
      ]
    },
    {
      "cell_type": "code",
      "source": [
        "# Importing the required libraries to perform ALS\n",
        "from pyspark.ml.tuning import ParamGridBuilder, CrossValidator\n",
        "from pyspark.ml.evaluation import RegressionEvaluator\n",
        "from pyspark.ml.recommendation import ALS\n",
        "from pyspark.ml.tuning import ParamGridBuilder, CrossValidator"
      ],
      "metadata": {
        "id": "kkK_bXSUiaro"
      },
      "execution_count": 29,
      "outputs": []
    },
    {
      "cell_type": "code",
      "source": [
        "from pyspark.sql import functions as f"
      ],
      "metadata": {
        "id": "Q2gnhRrwqTQ5"
      },
      "execution_count": 30,
      "outputs": []
    },
    {
      "cell_type": "code",
      "source": [
        "# Removes users with less than 20 ratings\n",
        "master.groupBy(\"UserID\").count().filter(f.col(\"count\") >= 50).show()"
      ],
      "metadata": {
        "colab": {
          "base_uri": "https://localhost:8080/"
        },
        "id": "5qKfXDfep2gN",
        "outputId": "c24a871a-3ec4-4ba1-c0d9-89690a80c1a9"
      },
      "execution_count": 31,
      "outputs": [
        {
          "output_type": "stream",
          "name": "stdout",
          "text": [
            "+------+-----+\n",
            "|UserID|count|\n",
            "+------+-----+\n",
            "|   148|  624|\n",
            "|   463|  123|\n",
            "|   471|  105|\n",
            "|   496|  119|\n",
            "|  1088| 1176|\n",
            "|  1342|   92|\n",
            "|  1591|  314|\n",
            "|  1645|  522|\n",
            "|  1959|   61|\n",
            "|  2122|  208|\n",
            "|  2142|   77|\n",
            "|  2659|  161|\n",
            "|  2866|  205|\n",
            "|  3175|   87|\n",
            "|  3749|  118|\n",
            "|  3997|  315|\n",
            "|  4101|   95|\n",
            "|  4818|   50|\n",
            "|  5156|  320|\n",
            "|  5300|  282|\n",
            "+------+-----+\n",
            "only showing top 20 rows\n",
            "\n"
          ]
        }
      ]
    },
    {
      "cell_type": "code",
      "source": [
        "# Split our data for our training and test datasets\n",
        "(train, test) = master.randomSplit([0.8, 0.2])"
      ],
      "metadata": {
        "id": "F9lQSdCCqYb1"
      },
      "execution_count": 32,
      "outputs": []
    },
    {
      "cell_type": "code",
      "source": [
        "train.describe().show()"
      ],
      "metadata": {
        "colab": {
          "base_uri": "https://localhost:8080/"
        },
        "id": "0MuWcwCjrqCe",
        "outputId": "55f03e25-1e39-428b-ec33-53f69bce7174"
      },
      "execution_count": 33,
      "outputs": [
        {
          "output_type": "stream",
          "name": "stdout",
          "text": [
            "+-------+------------------+------------------+-----------------+-------+--------------------+\n",
            "|summary|           MovieID|            UserID|           Rating| Genres|               Title|\n",
            "+-------+------------------+------------------+-----------------+-------+--------------------+\n",
            "|  count|            800253|            800253|           800253| 800253|              800253|\n",
            "|   mean|1865.3822703569997|3024.3768595681618|3.580870049846736|   null|                null|\n",
            "| stddev|1096.0108405961018|1728.5135512146749|1.117072717447363|   null|                null|\n",
            "|    min|                 1|                 1|                1| Action|$1,000,000 Duck (...|\n",
            "|    max|              3952|              6040|                5|Western|     eXistenZ (1999)|\n",
            "+-------+------------------+------------------+-----------------+-------+--------------------+\n",
            "\n"
          ]
        }
      ]
    },
    {
      "cell_type": "code",
      "source": [
        "test.describe().show(5)"
      ],
      "metadata": {
        "colab": {
          "base_uri": "https://localhost:8080/"
        },
        "id": "ilEN6FEkuJO0",
        "outputId": "60e72130-3da9-4421-85e2-53f48df3b36a"
      },
      "execution_count": 34,
      "outputs": [
        {
          "output_type": "stream",
          "name": "stdout",
          "text": [
            "+-------+------------------+------------------+------------------+-------+--------------------+\n",
            "|summary|           MovieID|            UserID|            Rating| Genres|               Title|\n",
            "+-------+------------------+------------------+------------------+-------+--------------------+\n",
            "|  count|            199956|            199956|            199956| 199956|              199956|\n",
            "|   mean|1866.1707475644641|3025.0545920102422|3.5843435555822283|   null|                null|\n",
            "| stddev| 1096.162654782115|1728.0132094929415|1.1172168852682534|   null|                null|\n",
            "|    min|                 1|                 1|                 1| Action|$1,000,000 Duck (...|\n",
            "|    max|              3952|              6040|                 5|Western|     eXistenZ (1999)|\n",
            "+-------+------------------+------------------+------------------+-------+--------------------+\n",
            "\n"
          ]
        }
      ]
    },
    {
      "cell_type": "code",
      "source": [
        "# Run ALS collaborative filtering\n",
        "als = ALS(rank=16, maxIter=10, regParam=0.16, userCol=\"UserID\", itemCol=\"MovieID\", ratingCol=\"Rating\")\n",
        "\n",
        "# Run training model which includes your own ratings\n",
        "#model = als.fit(train)\n",
        "model = als.fit(train.unionAll(master))"
      ],
      "metadata": {
        "id": "lDvyCo2Hxs0f"
      },
      "execution_count": 35,
      "outputs": []
    },
    {
      "cell_type": "code",
      "source": [
        "predictions = model.transform(test).dropna()\n",
        "predictions.createOrReplaceTempView(\"predictions\")\n",
        "display(predictions)"
      ],
      "metadata": {
        "colab": {
          "base_uri": "https://localhost:8080/",
          "height": 34
        },
        "id": "RhvB_Em3xrzv",
        "outputId": "d58205bf-d74e-43e7-c209-b9b67aa7bba6"
      },
      "execution_count": 36,
      "outputs": [
        {
          "output_type": "display_data",
          "data": {
            "text/plain": [
              "DataFrame[MovieID: int, UserID: int, Rating: int, Genres: string, Title: string, prediction: float]"
            ]
          },
          "metadata": {}
        }
      ]
    },
    {
      "cell_type": "code",
      "source": [
        "predictions.show()"
      ],
      "metadata": {
        "colab": {
          "base_uri": "https://localhost:8080/"
        },
        "id": "uKHfiq2a4laA",
        "outputId": "596df5cc-b100-41c8-873d-e548ebc3750d"
      },
      "execution_count": 37,
      "outputs": [
        {
          "output_type": "stream",
          "name": "stdout",
          "text": [
            "+-------+------+------+--------------------+--------------------+----------+\n",
            "|MovieID|UserID|Rating|              Genres|               Title|prediction|\n",
            "+-------+------+------+--------------------+--------------------+----------+\n",
            "|    148|   673|     5|               Drama|Awfully Big Adven...| 3.2135835|\n",
            "|    148|  4169|     3|               Drama|Awfully Big Adven...| 2.8268285|\n",
            "|    148|  4227|     2|               Drama|Awfully Big Adven...| 2.2349353|\n",
            "|    148|  4784|     3|               Drama|Awfully Big Adven...| 2.8330445|\n",
            "|    148|  1069|     2|               Drama|Awfully Big Adven...| 2.6612728|\n",
            "|    148|  1150|     2|               Drama|Awfully Big Adven...| 2.3446913|\n",
            "|    463|    26|     3|Crime|Drama|Thriller|Guilty as Sin (1993)|  2.511301|\n",
            "|    463|  3032|     4|Crime|Drama|Thriller|Guilty as Sin (1993)|  3.853269|\n",
            "|    463|  3562|     2|Crime|Drama|Thriller|Guilty as Sin (1993)| 2.7485409|\n",
            "|    463|  4613|     4|Crime|Drama|Thriller|Guilty as Sin (1993)|  3.602999|\n",
            "|    471|  5300|     4|      Comedy|Romance|Hudsucker Proxy, ...|  3.970203|\n",
            "|    471|   392|     4|      Comedy|Romance|Hudsucker Proxy, ...|  3.484092|\n",
            "|    471|  1395|     5|      Comedy|Romance|Hudsucker Proxy, ...| 3.8704154|\n",
            "|    471|  5614|     5|      Comedy|Romance|Hudsucker Proxy, ...| 3.6704376|\n",
            "|    471|  4186|     3|      Comedy|Romance|Hudsucker Proxy, ...| 2.8997831|\n",
            "|    471|  3425|     4|      Comedy|Romance|Hudsucker Proxy, ...|  3.755852|\n",
            "|    471|  3561|     4|      Comedy|Romance|Hudsucker Proxy, ...| 3.7215753|\n",
            "|    471|  4957|     3|      Comedy|Romance|Hudsucker Proxy, ...| 3.3221307|\n",
            "|    471|  5178|     4|      Comedy|Romance|Hudsucker Proxy, ...|  3.638123|\n",
            "|    471|    78|     4|      Comedy|Romance|Hudsucker Proxy, ...| 3.4435608|\n",
            "+-------+------+------+--------------------+--------------------+----------+\n",
            "only showing top 20 rows\n",
            "\n"
          ]
        }
      ]
    },
    {
      "cell_type": "code",
      "source": [
        "evaluator = RegressionEvaluator(metricName=\"rmse\", labelCol=\"Rating\", predictionCol=\"prediction\")\n",
        "rmse = evaluator.evaluate(predictions)"
      ],
      "metadata": {
        "id": "Gk1_UvBzrFJe"
      },
      "execution_count": 38,
      "outputs": []
    },
    {
      "cell_type": "code",
      "source": [
        "print(rmse, '\\nThe predictions model has an RMSE of approximately 0.89. \\nThis indicates that it predicts values that are typically 0.89 above or below those in the original ratings matrix. \\nNote that matrix factorization reveals patterns that humans are unable to.')"
      ],
      "metadata": {
        "colab": {
          "base_uri": "https://localhost:8080/"
        },
        "id": "71u2kglo15ZZ",
        "outputId": "73be7245-194e-4e65-9c27-f62575faa500"
      },
      "execution_count": 43,
      "outputs": [
        {
          "output_type": "stream",
          "name": "stdout",
          "text": [
            "0.8923814918030123 \n",
            "The predictions model has an RMSE of approximately 0.89. \n",
            "This indicates that it predicts values that are typically 0.89 above or below those in the original ratings matrix. \n",
            "Note that matrix factorization reveals patterns that humans are unable to.\n"
          ]
        }
      ]
    },
    {
      "cell_type": "code",
      "source": [],
      "metadata": {
        "id": "URrfXT6G8WVv"
      },
      "execution_count": 39,
      "outputs": []
    }
  ],
  "metadata": {
    "colab": {
      "provenance": []
    },
    "kernelspec": {
      "display_name": "Python 3",
      "name": "python3"
    },
    "language_info": {
      "name": "python"
    },
    "accelerator": "GPU",
    "gpuClass": "standard"
  },
  "nbformat": 4,
  "nbformat_minor": 0
}